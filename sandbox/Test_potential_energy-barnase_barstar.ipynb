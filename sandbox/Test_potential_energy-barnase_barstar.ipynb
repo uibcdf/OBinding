{
 "cells": [
  {
   "cell_type": "code",
   "execution_count": null,
   "id": "6849a3d6-9799-4a2a-b1bb-e03cef818178",
   "metadata": {},
   "outputs": [],
   "source": [
    "import molsysmt as msm\n",
    "import pyunitwizard as puw\n",
    "\n",
    "import numpy as np\n",
    "import matplotlib.pyplot as plt"
   ]
  },
  {
   "cell_type": "code",
   "execution_count": null,
   "id": "1be02ae9-62d9-4080-a53c-7bf9bfceb659",
   "metadata": {},
   "outputs": [],
   "source": [
    "molecular_system = msm.systems.demo['Barnase-Barstar']['barnase_barstar.msmpk']\n",
    "molecular_system = msm.convert(molecular_system)"
   ]
  },
  {
   "cell_type": "code",
   "execution_count": null,
   "id": "984aee1c-e921-4f84-8ce2-b811f8cd6cc7",
   "metadata": {},
   "outputs": [],
   "source": [
    "msm.info(molecular_system, element='component')"
   ]
  },
  {
   "cell_type": "code",
   "execution_count": null,
   "id": "cf21b555-9297-49ff-9db7-b3752204b49e",
   "metadata": {},
   "outputs": [],
   "source": [
    "msm.molecular_mechanics.potential_energy_minimization(molecular_system)"
   ]
  },
  {
   "cell_type": "code",
   "execution_count": null,
   "id": "1d50552e-fe30-49bc-8672-ae7c1f917758",
   "metadata": {},
   "outputs": [],
   "source": [
    "msm.molecular_mechanics.get_potential_energy(molecular_system, decomposition=True)"
   ]
  },
  {
   "cell_type": "code",
   "execution_count": null,
   "id": "01c288ec-6a11-43fa-8c0f-e769798b6854",
   "metadata": {},
   "outputs": [],
   "source": [
    "U12 = msm.molecular_mechanics.get_non_bonded_potential_energy(molecular_system,\n",
    "                                                              selection='molecule_index==0',\n",
    "                                                              selection_2='molecule_index==1')"
   ]
  },
  {
   "cell_type": "code",
   "execution_count": null,
   "id": "1304e6d2-254d-4280-baad-08046a886e95",
   "metadata": {},
   "outputs": [],
   "source": [
    "U12"
   ]
  },
  {
   "cell_type": "code",
   "execution_count": null,
   "id": "a21b4f8e-5d88-4efa-b0bd-d33256a378be",
   "metadata": {},
   "outputs": [],
   "source": [
    "%%time\n",
    "U12_groups = msm.molecular_mechanics.get_non_bonded_potential_energy(molecular_system,\n",
    "                                                              selection='all in groups of molecule_index==0',\n",
    "                                                              selection_2='all in groups of molecule_index==1')"
   ]
  },
  {
   "cell_type": "code",
   "execution_count": null,
   "id": "f15c0a52-263f-4579-8e26-21f189f4448a",
   "metadata": {},
   "outputs": [],
   "source": [
    "vtop = puw.get_value(max(abs(U12_groups.min()), abs(U12_groups.max())))\n",
    "\n",
    "plt.imshow(U12_groups, origin='lower', cmap='bwr', vmin=-vtop, vmax=vtop)\n",
    "plt.colorbar()\n",
    "plt.show()"
   ]
  },
  {
   "cell_type": "code",
   "execution_count": null,
   "id": "09bf26a0-5401-40fc-9fb0-a4ec3dbc6bd7",
   "metadata": {},
   "outputs": [],
   "source": [
    "mask = np.absolute(msm.pyunitwizard.get_value(U12_groups))>10.0\n",
    "np.sum(mask)"
   ]
  },
  {
   "cell_type": "code",
   "execution_count": null,
   "id": "b3fbac0e-9271-4ef0-bbbf-caa74c83293b",
   "metadata": {},
   "outputs": [],
   "source": [
    "mask2 = msm.pyunitwizard.get_value(U12_groups)<-10.0\n",
    "np.sum(mask2)"
   ]
  },
  {
   "cell_type": "code",
   "execution_count": null,
   "id": "4c1f6ad7-d2c4-4fcf-a970-16814e24bc4c",
   "metadata": {},
   "outputs": [],
   "source": [
    "np.sum(U12_groups[mask])/U12"
   ]
  },
  {
   "cell_type": "code",
   "execution_count": null,
   "id": "2cf16922-41c6-42a7-9b7a-d0eb05f4e19e",
   "metadata": {},
   "outputs": [],
   "source": [
    "U12_1_groups= U12_groups.sum(axis=1)\n",
    "U12_2_groups= U12_groups.sum(axis=0)\n",
    "\n",
    "plt.bar(np.arange(U12_1_groups.shape[0]), msm.pyunitwizard.get_value(U12_1_groups))\n",
    "plt.show()\n",
    "\n",
    "plt.bar(np.arange(U12_2_groups.shape[0]), msm.pyunitwizard.get_value(U12_2_groups))\n",
    "plt.show()"
   ]
  },
  {
   "cell_type": "code",
   "execution_count": null,
   "id": "4567326d-29e8-4d78-9b4c-72d7e05d9137",
   "metadata": {},
   "outputs": [],
   "source": [
    "distance = msm.structure.get_distances(molecular_system, selection='all in groups of molecule_index==0',\n",
    "                 selection_2='all in groups of molecule_index==1')"
   ]
  },
  {
   "cell_type": "code",
   "execution_count": null,
   "id": "32002e7a-48e9-41bc-ab58-94cf48e3620d",
   "metadata": {},
   "outputs": [],
   "source": [
    "plt.scatter(distance.flatten(), U12_groups.flatten(), s=1.0)\n",
    "plt.ylim([-100.0, 100.0])\n",
    "plt.show()"
   ]
  },
  {
   "cell_type": "code",
   "execution_count": null,
   "id": "34dd4fb2-83b2-409f-bc3b-5420f38b895c",
   "metadata": {},
   "outputs": [],
   "source": [
    "aux = [ii for ii in msm.pyunitwizard.get_value(U12_1_groups)]\n",
    "aux += [ii for ii in msm.pyunitwizard.get_value(U12_2_groups)]\n",
    "aux = np.array(aux)\n",
    "max_abs_val = max(abs(aux.min()), abs(aux.max()))"
   ]
  },
  {
   "cell_type": "code",
   "execution_count": null,
   "id": "79d4a02c-8231-42cc-a959-b3ed4c0089d4",
   "metadata": {},
   "outputs": [],
   "source": [
    "view = msm.view(molecular_system)\n",
    "view.clear()\n",
    "view.add_cartoon(selection='all')\n",
    "msm.thirds.nglview.color_by_value(view, aux, min_value= -max_abs_val, max_value= max_abs_val, cmap='bwr')\n",
    "view"
   ]
  },
  {
   "cell_type": "code",
   "execution_count": null,
   "id": "b8d091b9-c519-4669-b8b4-2ef830d47b71",
   "metadata": {},
   "outputs": [],
   "source": []
  }
 ],
 "metadata": {
  "kernelspec": {
   "display_name": "Python 3 (ipykernel)",
   "language": "python",
   "name": "python3"
  },
  "language_info": {
   "codemirror_mode": {
    "name": "ipython",
    "version": 3
   },
   "file_extension": ".py",
   "mimetype": "text/x-python",
   "name": "python",
   "nbconvert_exporter": "python",
   "pygments_lexer": "ipython3",
   "version": "3.10.12"
  }
 },
 "nbformat": 4,
 "nbformat_minor": 5
}
