{
 "cells": [
  {
   "cell_type": "code",
   "execution_count": 7,
   "id": "257d908a-8cf9-4f02-8b73-ad4da8686748",
   "metadata": {},
   "outputs": [],
   "source": [
    "import molsysmt as msm\n",
    "import obinding as obin\n",
    "import pyunitwizard as puw"
   ]
  },
  {
   "cell_type": "code",
   "execution_count": 2,
   "id": "023a733d-e140-4236-831a-3aca81f65bf0",
   "metadata": {},
   "outputs": [],
   "source": [
    "molecular_system = obin.systems.demo()"
   ]
  },
  {
   "cell_type": "code",
   "execution_count": 3,
   "id": "072030b4-3762-4885-b2b3-04081bc7561d",
   "metadata": {},
   "outputs": [
    {
     "data": {
      "text/html": [
       "<style type=\"text/css\">\n",
       "</style>\n",
       "<table id=\"T_6e513\">\n",
       "  <thead>\n",
       "    <tr>\n",
       "      <th id=\"T_6e513_level0_col0\" class=\"col_heading level0 col0\" >index</th>\n",
       "      <th id=\"T_6e513_level0_col1\" class=\"col_heading level0 col1\" >n atoms</th>\n",
       "      <th id=\"T_6e513_level0_col2\" class=\"col_heading level0 col2\" >n groups</th>\n",
       "      <th id=\"T_6e513_level0_col3\" class=\"col_heading level0 col3\" >chain index</th>\n",
       "      <th id=\"T_6e513_level0_col4\" class=\"col_heading level0 col4\" >molecule index</th>\n",
       "      <th id=\"T_6e513_level0_col5\" class=\"col_heading level0 col5\" >molecule type</th>\n",
       "      <th id=\"T_6e513_level0_col6\" class=\"col_heading level0 col6\" >entity index</th>\n",
       "      <th id=\"T_6e513_level0_col7\" class=\"col_heading level0 col7\" >entity name</th>\n",
       "    </tr>\n",
       "  </thead>\n",
       "  <tbody>\n",
       "    <tr>\n",
       "      <td id=\"T_6e513_row0_col0\" class=\"data row0 col0\" >0</td>\n",
       "      <td id=\"T_6e513_row0_col1\" class=\"data row0 col1\" >1727</td>\n",
       "      <td id=\"T_6e513_row0_col2\" class=\"data row0 col2\" >110</td>\n",
       "      <td id=\"T_6e513_row0_col3\" class=\"data row0 col3\" >0</td>\n",
       "      <td id=\"T_6e513_row0_col4\" class=\"data row0 col4\" >0</td>\n",
       "      <td id=\"T_6e513_row0_col5\" class=\"data row0 col5\" >protein</td>\n",
       "      <td id=\"T_6e513_row0_col6\" class=\"data row0 col6\" >0</td>\n",
       "      <td id=\"T_6e513_row0_col7\" class=\"data row0 col7\" >Barnase</td>\n",
       "    </tr>\n",
       "    <tr>\n",
       "      <td id=\"T_6e513_row1_col0\" class=\"data row1 col0\" >1</td>\n",
       "      <td id=\"T_6e513_row1_col1\" class=\"data row1 col1\" >1432</td>\n",
       "      <td id=\"T_6e513_row1_col2\" class=\"data row1 col2\" >89</td>\n",
       "      <td id=\"T_6e513_row1_col3\" class=\"data row1 col3\" >1</td>\n",
       "      <td id=\"T_6e513_row1_col4\" class=\"data row1 col4\" >1</td>\n",
       "      <td id=\"T_6e513_row1_col5\" class=\"data row1 col5\" >protein</td>\n",
       "      <td id=\"T_6e513_row1_col6\" class=\"data row1 col6\" >1</td>\n",
       "      <td id=\"T_6e513_row1_col7\" class=\"data row1 col7\" >Barstar</td>\n",
       "    </tr>\n",
       "  </tbody>\n",
       "</table>\n"
      ],
      "text/plain": [
       "<pandas.io.formats.style.Styler at 0x7f276c4f3a60>"
      ]
     },
     "execution_count": 3,
     "metadata": {},
     "output_type": "execute_result"
    }
   ],
   "source": [
    "msm.info(molecular_system, element='component')"
   ]
  },
  {
   "cell_type": "code",
   "execution_count": 4,
   "id": "b37309e3-b880-4c8c-af18-c0dce1d5c44b",
   "metadata": {},
   "outputs": [],
   "source": [
    "molecular_complex = obin.MolecularComplex(molecular_system)"
   ]
  },
  {
   "cell_type": "code",
   "execution_count": 5,
   "id": "94cd7a44-a986-437d-9ed7-daf9265101cd",
   "metadata": {},
   "outputs": [],
   "source": [
    "U12 = obin.potential_energy.get_binding_potential_energy(molecular_complex)"
   ]
  },
  {
   "cell_type": "code",
   "execution_count": 6,
   "id": "239f03e8-bacd-438b-93ee-beedef44d682",
   "metadata": {},
   "outputs": [
    {
     "data": {
      "text/html": [
       "-3198.2333984375 kilojoule/mole"
      ],
      "text/latex": [
       "$-3198.2333984375\\ \\frac{\\mathrm{kilojoule}}{\\mathrm{mole}}$"
      ],
      "text/plain": [
       "-3198.2333984375 <Unit('kilojoule / mole')>"
      ]
     },
     "execution_count": 6,
     "metadata": {},
     "output_type": "execute_result"
    }
   ],
   "source": [
    "U12"
   ]
  },
  {
   "cell_type": "code",
   "execution_count": 8,
   "id": "940f0ae2-2cad-4588-9a04-71ca7a23a631",
   "metadata": {},
   "outputs": [],
   "source": [
    "U12_groups = obin.potential_energy.get_binding_potential_energy(molecular_complex, per_groups=True)"
   ]
  },
  {
   "cell_type": "code",
   "execution_count": 11,
   "id": "268f7025-487b-4598-bf48-37423012938f",
   "metadata": {},
   "outputs": [],
   "source": [
    "U12_1_groups= U12_groups.sum(axis=1)\n",
    "U12_2_groups= U12_groups.sum(axis=0)"
   ]
  },
  {
   "cell_type": "code",
   "execution_count": 9,
   "id": "3266b5e1-b57a-484c-94f5-82562b5a9f4e",
   "metadata": {},
   "outputs": [],
   "source": [
    "import numpy as np\n",
    "import matplotlib.pyplot as plt"
   ]
  },
  {
   "cell_type": "code",
   "execution_count": 10,
   "id": "04c9c747-2cfa-4b84-bd06-46754f497d76",
   "metadata": {},
   "outputs": [
    {
     "name": "stderr",
     "output_type": "stream",
     "text": [
      "/home/diego/Myopt/miniconda3/envs/OBinding@uibcdf_3.10/lib/python3.10/site-packages/matplotlib/cbook/__init__.py:709: UnitStrippedWarning: The unit of the quantity is stripped when downcasting to ndarray.\n",
      "  x = np.array(x, subok=True, copy=copy)\n"
     ]
    },
    {
     "data": {
      "image/png": "[encoded data removed]",
      "text/plain": [
       "<Figure size 640x480 with 2 Axes>"
      ]
     },
     "metadata": {},
     "output_type": "display_data"
    }
   ],
   "source": [
    "vtop = puw.get_value(max(abs(U12_groups.min()), abs(U12_groups.max())))\n",
    "\n",
    "plt.imshow(U12_groups, origin='lower', cmap='bwr', vmin=-vtop, vmax=vtop)\n",
    "plt.colorbar()\n",
    "plt.show()"
   ]
  },
  {
   "cell_type": "code",
   "execution_count": 12,
   "id": "d96fdaca-867d-4308-aae6-f03028d95f60",
   "metadata": {},
   "outputs": [
    {
     "data": {
      "application/vnd.jupyter.widget-view+json": {
       "model_id": "415e39b431af4a93a3e752c5a2c0d6c5",
       "version_major": 2,
       "version_minor": 0
      },
      "text/plain": [
       "NGLWidget()"
      ]
     },
     "metadata": {},
     "output_type": "display_data"
    }
   ],
   "source": [
    "aux = [ii for ii in msm.pyunitwizard.get_value(U12_1_groups)]\n",
    "aux += [ii for ii in msm.pyunitwizard.get_value(U12_2_groups)]\n",
    "aux = np.array(aux)\n",
    "max_abs_val = max(abs(aux.min()), abs(aux.max()))\n",
    "\n",
    "view = msm.view(molecular_system)\n",
    "view.clear()\n",
    "view.add_cartoon(selection='all')\n",
    "msm.thirds.nglview.color_by_value(view, aux, min_value= -max_abs_val, max_value= max_abs_val, cmap='bwr')\n",
    "view"
   ]
  },
  {
   "cell_type": "code",
   "execution_count": null,
   "id": "2609a203-dd53-46d8-9727-2c64a2d36bc8",
   "metadata": {},
   "outputs": [],
   "source": []
  }
 ],
 "metadata": {
  "kernelspec": {
   "display_name": "Python 3 (ipykernel)",
   "language": "python",
   "name": "python3"
  },
  "language_info": {
   "codemirror_mode": {
    "name": "ipython",
    "version": 3
   },
   "file_extension": ".py",
   "mimetype": "text/x-python",
   "name": "python",
   "nbconvert_exporter": "python",
   "pygments_lexer": "ipython3",
   "version": "3.10.12"
  }
 },
 "nbformat": 4,
 "nbformat_minor": 5
}
